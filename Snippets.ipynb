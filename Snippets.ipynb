{
  "nbformat": 4,
  "nbformat_minor": 0,
  "metadata": {
    "colab": {
      "name": "Snippets.ipynb",
      "provenance": [],
      "collapsed_sections": [],
      "authorship_tag": "ABX9TyOsd0y+FEZK3nZcOZuVw62Z",
      "include_colab_link": true
    },
    "kernelspec": {
      "name": "python3",
      "display_name": "Python 3"
    },
    "language_info": {
      "name": "python"
    }
  },
  "cells": [
    {
      "cell_type": "markdown",
      "metadata": {
        "id": "view-in-github",
        "colab_type": "text"
      },
      "source": [
        "<a href=\"https://colab.research.google.com/github/jeevanchavan143/Machine-Learning-Algorithms---Hands-on/blob/master/Snippets.ipynb\" target=\"_parent\"><img src=\"https://colab.research.google.com/assets/colab-badge.svg\" alt=\"Open In Colab\"/></a>"
      ]
    },
    {
      "cell_type": "code",
      "metadata": {
        "id": "fv6TF9BxTvA_"
      },
      "source": [
        "#Common Import\n",
        "#Loading libraries  \n",
        "import numpy as np  \n",
        "import pandas as pd \n",
        "import matplotlib.pyplot as plt\n",
        "import seaborn as sns  \n",
        "%matplotlib inline \n",
        "plt.rcParams['figure.figsize'] = (10.0, 8.0) "
      ],
      "execution_count": null,
      "outputs": []
    },
    {
      "cell_type": "code",
      "metadata": {
        "id": "xG2XTflGT9a6"
      },
      "source": [
        "#Common loading data \n",
        "train = pd.read_csv(\"/content/Train.csv\") \n",
        "test = pd.read_csv(\"/content/Test.csv\")  "
      ],
      "execution_count": null,
      "outputs": []
    },
    {
      "cell_type": "code",
      "metadata": {
        "id": "BE869BCoelGe"
      },
      "source": [
        "#Basic Operations\n",
        "train_data.head()\n",
        "train_data.shape\n",
        "train_data.describe() #statistical info\n",
        "train_data.info() # generalized info\n",
        "train_data = train_data.drop(columns=['Ticket', 'PassengerId', 'Cabin','Name']) #removing unwanted columns\n"
      ],
      "execution_count": null,
      "outputs": []
    },
    {
      "cell_type": "code",
      "metadata": {
        "id": "_cwi9r4FUGH0"
      },
      "source": [
        "#Finding missing vaules in dataset\n",
        "train.isnull().sum()\n",
        "\n",
        "#Handle missing values 0f Age & Embarked\n",
        "train_data[\"Age\"] = train_data[\"Age\"].fillna(train_data[\"Age\"].median())   #if value is number\n",
        "\n",
        "#If values are categorical check for highest frequency category\n",
        "print(\"Number of people embarking in Southampton (S):\")\n",
        "southampton = train_data[train_data[\"Embarked\"] == \"S\"].shape[0]\n",
        "print(southampton)\n",
        "print(\"Number of people embarking in Cherbourg (C):\")\n",
        "cherbourg = train_data[train_data[\"Embarked\"] == \"C\"].shape[0]\n",
        "print(cherbourg)\n",
        "train_data['Embarked'] = train_data['Embarked'].fillna('S')    #As occurance of 'S' is more as compared to 'Q' and 'C'"
      ],
      "execution_count": null,
      "outputs": []
    },
    {
      "cell_type": "code",
      "metadata": {
        "id": "ez0N2Torgtf2"
      },
      "source": [
        "#Handling missing values from test.csv using mean median\n",
        "fare_mean = train_data.Fare.mean()\n",
        "test_data.Fare = test_data.Fare.fillna(fare_mean)\n",
        "test_data[\"Age\"] = test_data[\"Age\"].fillna(test_data[\"Age\"].median())"
      ],
      "execution_count": null,
      "outputs": []
    },
    {
      "cell_type": "code",
      "metadata": {
        "id": "rLQnIUVbUZKM"
      },
      "source": [
        "#Converting categorical values\n",
        "#Alternative to Label Encoding\n",
        "train['gender']=train['gender'].apply(lambda x: 1 if x!='Male' else 0)\n",
        "#Another way to map\n",
        "train_data['Sex'] = train_data['Sex'].map({'male':0, 'female':1})\n",
        "train_data['Embarked'] = train_data['Embarked'].map({'C':0, 'Q':1, 'S':2})"
      ],
      "execution_count": null,
      "outputs": []
    },
    {
      "cell_type": "code",
      "metadata": {
        "id": "_wlD-d_PANbD"
      },
      "source": [
        "from sklearn.preprocessing import LabelEncoder\n",
        "#Label Encoding for Embarked\n",
        "le=LabelEncoder()\n",
        "dataset[\"Embarked\"]=le.fit_transform(dataset[\"Embarked\"])"
      ],
      "execution_count": null,
      "outputs": []
    },
    {
      "cell_type": "code",
      "metadata": {
        "id": "48jpJLMscbxr"
      },
      "source": [
        "#Ordinal number encoding\n",
        "#https://ashutosh-sahu.medium.com/how-to-handle-categorical-features-ab65c3cf498e\n",
        "mapping_dictionary_value={'Cold':1,'Warm':2,'Hot':3,'Very Hot':4}\n",
        "dataset['Temperature_Ordinal']=dataset.Temperature.map(mapping_dictionary_value)\n",
        "dataset"
      ],
      "execution_count": null,
      "outputs": []
    },
    {
      "cell_type": "code",
      "metadata": {
        "id": "Qh9c7_afVasj"
      },
      "source": [
        "#One Hot Encoding : prefeered\n",
        "dummies_weather = pd.get_dummies(train['weather_type'])\n",
        "train = train.drop('weather_type', axis = 1)\n",
        "train = pd.concat([train, dummies_weather], axis='columns')"
      ],
      "execution_count": null,
      "outputs": []
    },
    {
      "cell_type": "code",
      "metadata": {
        "id": "FAheAdLGV14C"
      },
      "source": [
        "#Dealing with Date time\n",
        "from datetime import datetime\n",
        "train['date_time'] = pd.to_datetime(train.date_time)\n",
        "train['year'] = train['date_time'].dt.year\n",
        "train['month'] = train['date_time'].dt.month\n",
        "train['day'] = train['date_time'].dt.day\n",
        "train['dayofyear'] = train['date_time'].dt.dayofyear\n",
        "train['weekofyear'] = train['date_time'].dt.weekofyear\n",
        "train['dayofweek'] = train['date_time'].dt.dayofweek\n",
        "train['hour'] = train['date_time'].dt.hour\n",
        "\n",
        "#if day is 5th-Saturday or 6th-Sunday , then it is a weekend\n",
        "d1 = {5:1,6:1,1:0,2:0,3:0,4:0,0:0}\n",
        "#creating new features\n",
        "train['is_weekend']=train.date_time.dt.dayofweek\n",
        "train['is_weekend']=train['is_weekend'].map(d1)"
      ],
      "execution_count": null,
      "outputs": []
    },
    {
      "cell_type": "code",
      "metadata": {
        "id": "UyA-JQukv28E"
      },
      "source": [
        "#Standard Scaler\n",
        "from sklearn.preprocessing import StandardScaler\n",
        "sc=StandardScaler()\n",
        "x_train=sc.fit_transform(x_train)\n",
        "x_test=sc.fit_transform(x_test)"
      ],
      "execution_count": null,
      "outputs": []
    },
    {
      "cell_type": "code",
      "metadata": {
        "id": "w1WlunrMYmmo"
      },
      "source": [
        "#spliting of train data \n",
        "x_train=train.drop(columns=['traffic_volume'])\n",
        "y_train=train['traffic_volume']"
      ],
      "execution_count": null,
      "outputs": []
    },
    {
      "cell_type": "code",
      "metadata": {
        "id": "PWtt7U7JvKaT"
      },
      "source": [
        "#In case when you want to divide given supervised data to build model n check accuracy \n",
        "from sklearn.model_selection import train_test_split\n",
        "x_train,x_test,y_train,y_test=train_test_split(X,y,test_size=0.2,random_state=0)"
      ],
      "execution_count": null,
      "outputs": []
    },
    {
      "cell_type": "code",
      "metadata": {
        "id": "bE17rg9AwSfD"
      },
      "source": [
        "#Support Vector Classifier\n",
        "from sklearn.svm import SVC\n",
        "classifier = SVC(kernel='linear', random_state=0)\n",
        "classifier.fit(X_train, y_train)\n",
        "#predicting the test set results\n",
        "y_pred = classifier.predict(X_test)\n",
        "#making the confusion mmatrix\n",
        "from sklearn.metrics import confusion_matrix, classification_report\n",
        "cm = confusion_matrix(y_test, y_pred)\n",
        "print(classification_report(y_test, y_pred))"
      ],
      "execution_count": null,
      "outputs": []
    },
    {
      "cell_type": "code",
      "metadata": {
        "id": "tcfGqQxrhE7I"
      },
      "source": [
        "# KNN or k-Nearest Neighbors\n",
        "from sklearn.neighbors import KNeighborsClassifier\n",
        "knn = KNeighborsClassifier()\n",
        "knn.fit(x_train, y_train)\n",
        "y_test = knn.predict(x_test)"
      ],
      "execution_count": null,
      "outputs": []
    },
    {
      "cell_type": "code",
      "metadata": {
        "id": "_OFydzpHwvMe"
      },
      "source": [
        "#Decision Tree Classifier\n",
        "from sklearn.tree import DecisionTreeClassifier\n",
        "classifierDT=DecisionTreeClassifier()\n",
        "classifierDT.fit(x_train,y_train)\n",
        "y_predDTC=classifierDT.predict(x_test)\n",
        "\n",
        "\n",
        "#Classification Performance\n",
        "from sklearn.metrics import confusion_matrix,accuracy_score,classification_report\n",
        "print accuracy_score(y_test,y_predDTC)\n",
        "print confusion_matrix(y_test,y_predDTC)\n",
        "print classification_report(y_test,y_predDTC)"
      ],
      "execution_count": null,
      "outputs": []
    },
    {
      "cell_type": "code",
      "metadata": {
        "id": "UJfnYGvwyUQS"
      },
      "source": [
        "#Random Forest Classifier\n",
        " \n",
        "from sklearn.ensemble import RandomForestClassifier\n",
        "classifierRF=RandomForestClassifier(n_estimators=10)\n",
        "classifierRF.fit(x_train,y_train)\n",
        "y_predRFC=classifierRF.predict(x_test)\n",
        "df=pd.DataFrame({'Actual':y_test,'Predicted':y_predRFC})\n",
        "print df"
      ],
      "execution_count": null,
      "outputs": []
    },
    {
      "cell_type": "code",
      "metadata": {
        "id": "PI62TGXDvjWg"
      },
      "source": [
        "#Accuracy of model : Classification when you split given data into train test supervised\n",
        "from sklearn.metrics import accuracy_score,confusion_matrix,classification_report\n",
        "print confusion_matrix(y_test,y_pred)\n",
        "print accuracy_score(y_test,y_pred)*100"
      ],
      "execution_count": null,
      "outputs": []
    },
    {
      "cell_type": "code",
      "metadata": {
        "id": "ZnhVcyxl_HdZ"
      },
      "source": [
        "#For 100 Trees\n",
        "classifierRF=RandomForestClassifier(n_estimators=100)\n",
        "classifierRF.fit(x_train,y_train)\n",
        "y_predRFC=classifierRF.predict(x_test)\n",
        "df=pd.DataFrame({'Actual':y_test,'Predicted':y_predRFC})\n",
        "print accuracy_score(y_test,y_predRFC)\n",
        "print confusion_matrix(y_test,y_predRFC)"
      ],
      "execution_count": null,
      "outputs": []
    },
    {
      "cell_type": "code",
      "metadata": {
        "id": "7l-Vw0R5x7cz"
      },
      "source": [
        "#decision tree Regressor\n",
        "from sklearn.tree import DecisionTreeRegressor\n",
        "regressorDT=DecisionTreeRegressor()\n",
        "regressorDT.fit(x_train,y_train)\n",
        "y_predDTR=regressorDT.predict(x_test)"
      ],
      "execution_count": null,
      "outputs": []
    },
    {
      "cell_type": "code",
      "metadata": {
        "id": "yqwSBoYmY5l3"
      },
      "source": [
        "#Algorithm :Random Forest Regression\n",
        "from sklearn.ensemble import RandomForestRegressor\n",
        "from sklearn.model_selection import KFold,cross_val_score\n",
        "random_model = RandomForestRegressor(n_estimators=20)\n",
        "random_model.fit(x_train,y_train)\n",
        "cross_val_score(estimator=random_model,X=x_train, y=y_train,cv=5).mean()"
      ],
      "execution_count": null,
      "outputs": []
    },
    {
      "cell_type": "code",
      "metadata": {
        "id": "B_5wgypJZIP9"
      },
      "source": [
        "#Prediction of RF Regression\n",
        "random_pred=random_model.predict(x_test)\n",
        "random_pred=list(random_pred)\n",
        "random_pred_int = [float(round(i)) for i in random_pred]\n",
        "print(len(random_pred))"
      ],
      "execution_count": null,
      "outputs": []
    },
    {
      "cell_type": "code",
      "metadata": {
        "id": "dIpuQ8aS_twW"
      },
      "source": [
        "#for 100 trees and so on\n",
        "regressorRF=RandomForestRegressor(n_estimators=100)\n",
        "regressorRF.fit(x_train,y_train)\n",
        "y_predRFR=regressorRF.predict(x_test)"
      ],
      "execution_count": null,
      "outputs": []
    },
    {
      "cell_type": "code",
      "metadata": {
        "id": "OE9xmDroyIw7"
      },
      "source": [
        "#characterizing the Regressor\n",
        "from sklearn import metrics\n",
        "print 'Mean Absolute Error'\n",
        "print metrics.mean_absolute_error(y_test,y_predDTR)\n",
        "print 'mean_squared_error'\n",
        "metrics.mean_squared_error(y_test,y_predDTR)\n",
        "print 'root mean squared Error '\n",
        "np.sqrt(metrics.mean_squared_error(y_test,y_predDTR))\n",
        "print 'mean of quality:'\n",
        "dataset.quality.mean()"
      ],
      "execution_count": null,
      "outputs": []
    },
    {
      "cell_type": "code",
      "metadata": {
        "id": "O_nw_PaiZZyG"
      },
      "source": [
        "#Submission File \n",
        "submission=pd.DataFrame()\n",
        "submission['date_time']=test['date_time']\n",
        "submission['traffic_volume']=random_pred_int\n",
        "submission.to_csv('submission.csv',index=False)"
      ],
      "execution_count": null,
      "outputs": []
    }
  ]
}